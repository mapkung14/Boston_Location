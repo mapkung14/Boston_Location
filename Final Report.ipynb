{
 "cells": [
  {
   "cell_type": "markdown",
   "metadata": {},
   "source": [
    "# Introduction/Business Problem"
   ]
  },
  {
   "cell_type": "markdown",
   "metadata": {},
   "source": [
    "For many business owners who want to succeed in a competitive world, the most asked question at the beginning of the stage is always 'Where should I open my business', because the right place for business will always come with benefits such as more customer or more sale So business owner often relies on consultant firm or their human instinct to decide where should they open their business ,Will it be great if instead of random choice and instinct?. We can rely on customer generate data to decide the best place for a business like if somewhere most common place is restaurant type, We can assume that neighborhood is restaurant cluster and customers will likely to go there to find something to eat. \n",
    "\n",
    "Boston city is the largest city and the capital city of Massachusetts They have many people live there with multinational and preference. So in this report, we will try to use customer generate location data from Foursquare API to try to find the best neighborhood to open a restaurant in Boston city."
   ]
  },
  {
   "cell_type": "markdown",
   "metadata": {},
   "source": [
    "# Data"
   ]
  },
  {
   "cell_type": "markdown",
   "metadata": {},
   "source": [
    "In this report, we will data from Boston city's neighborhood to solve our problem. our data for analysis come from 4 sources :\n",
    "\n",
    "First from [Analyze Boston](https://data.boston.gov/dataset/boston-neighborhoods) website we use Boston Neighborhoods Datasets to obtain a list of Boston neighborhood.\n",
    "\n",
    "Second from [Statistical Atlas](https://statisticalatlas.com/place/Massachusetts/Boston/Population) website for our neighborhood population density data.\n",
    "\n",
    "Third, we use geocoder package to obtain Latitude and Longitude Data from the name of each neighborhood.\n",
    "\n",
    "and the last is from Foursquare API which we use to obtain data such as venue in each neighborhood and category of it."
   ]
  },
  {
   "cell_type": "code",
   "execution_count": 12,
   "metadata": {},
   "outputs": [],
   "source": [
    "#I have prepare and extract datasets already so let import it.\n",
    "import pandas as pd\n",
    "boston = pd.read_csv(r'C:\\Users\\watch\\Desktop\\projects\\Coursera_Capstone\\boston.csv',index_col=0)"
   ]
  },
  {
   "cell_type": "code",
   "execution_count": 14,
   "metadata": {},
   "outputs": [
    {
     "data": {
      "text/html": [
       "<div>\n",
       "<style scoped>\n",
       "    .dataframe tbody tr th:only-of-type {\n",
       "        vertical-align: middle;\n",
       "    }\n",
       "\n",
       "    .dataframe tbody tr th {\n",
       "        vertical-align: top;\n",
       "    }\n",
       "\n",
       "    .dataframe thead th {\n",
       "        text-align: right;\n",
       "    }\n",
       "</style>\n",
       "<table border=\"1\" class=\"dataframe\">\n",
       "  <thead>\n",
       "    <tr style=\"text-align: right;\">\n",
       "      <th></th>\n",
       "      <th>Neighbourhood</th>\n",
       "      <th>Latitude</th>\n",
       "      <th>Longitude</th>\n",
       "      <th>Population Density</th>\n",
       "    </tr>\n",
       "  </thead>\n",
       "  <tbody>\n",
       "    <tr>\n",
       "      <th>0</th>\n",
       "      <td>Roslindale</td>\n",
       "      <td>42.291209</td>\n",
       "      <td>-71.124497</td>\n",
       "      <td>9877.31</td>\n",
       "    </tr>\n",
       "    <tr>\n",
       "      <th>1</th>\n",
       "      <td>Jamaica Plain</td>\n",
       "      <td>42.309820</td>\n",
       "      <td>-71.120330</td>\n",
       "      <td>10363.86</td>\n",
       "    </tr>\n",
       "    <tr>\n",
       "      <th>2</th>\n",
       "      <td>Mission Hill</td>\n",
       "      <td>42.332926</td>\n",
       "      <td>-71.103214</td>\n",
       "      <td>22637.14</td>\n",
       "    </tr>\n",
       "    <tr>\n",
       "      <th>3</th>\n",
       "      <td>Longwood</td>\n",
       "      <td>42.336168</td>\n",
       "      <td>-71.099527</td>\n",
       "      <td>17561.48</td>\n",
       "    </tr>\n",
       "    <tr>\n",
       "      <th>4</th>\n",
       "      <td>Bay Village</td>\n",
       "      <td>42.350011</td>\n",
       "      <td>-71.066948</td>\n",
       "      <td>49840.22</td>\n",
       "    </tr>\n",
       "    <tr>\n",
       "      <th>5</th>\n",
       "      <td>Chinatown</td>\n",
       "      <td>42.352217</td>\n",
       "      <td>-71.062607</td>\n",
       "      <td>52322.61</td>\n",
       "    </tr>\n",
       "    <tr>\n",
       "      <th>6</th>\n",
       "      <td>North End</td>\n",
       "      <td>42.365097</td>\n",
       "      <td>-71.054495</td>\n",
       "      <td>42239.76</td>\n",
       "    </tr>\n",
       "    <tr>\n",
       "      <th>7</th>\n",
       "      <td>Roxbury</td>\n",
       "      <td>42.324843</td>\n",
       "      <td>-71.095016</td>\n",
       "      <td>14810.95</td>\n",
       "    </tr>\n",
       "    <tr>\n",
       "      <th>8</th>\n",
       "      <td>South End</td>\n",
       "      <td>42.341310</td>\n",
       "      <td>-71.077230</td>\n",
       "      <td>32320.73</td>\n",
       "    </tr>\n",
       "    <tr>\n",
       "      <th>9</th>\n",
       "      <td>Back Bay</td>\n",
       "      <td>42.350707</td>\n",
       "      <td>-71.079730</td>\n",
       "      <td>26282.87</td>\n",
       "    </tr>\n",
       "  </tbody>\n",
       "</table>\n",
       "</div>"
      ],
      "text/plain": [
       "   Neighbourhood   Latitude  Longitude  Population Density\n",
       "0     Roslindale  42.291209 -71.124497             9877.31\n",
       "1  Jamaica Plain  42.309820 -71.120330            10363.86\n",
       "2   Mission Hill  42.332926 -71.103214            22637.14\n",
       "3       Longwood  42.336168 -71.099527            17561.48\n",
       "4    Bay Village  42.350011 -71.066948            49840.22\n",
       "5      Chinatown  42.352217 -71.062607            52322.61\n",
       "6      North End  42.365097 -71.054495            42239.76\n",
       "7        Roxbury  42.324843 -71.095016            14810.95\n",
       "8      South End  42.341310 -71.077230            32320.73\n",
       "9       Back Bay  42.350707 -71.079730            26282.87"
      ]
     },
     "execution_count": 14,
     "metadata": {},
     "output_type": "execute_result"
    }
   ],
   "source": [
    "#This is example of datasets that we will use except data from foursquare api that we will obtain during model building process.\n",
    "boston.head(10)"
   ]
  }
 ],
 "metadata": {
  "kernelspec": {
   "display_name": "Python 3",
   "language": "python",
   "name": "python3"
  },
  "language_info": {
   "codemirror_mode": {
    "name": "ipython",
    "version": 3
   },
   "file_extension": ".py",
   "mimetype": "text/x-python",
   "name": "python",
   "nbconvert_exporter": "python",
   "pygments_lexer": "ipython3",
   "version": "3.6.5"
  }
 },
 "nbformat": 4,
 "nbformat_minor": 2
}
